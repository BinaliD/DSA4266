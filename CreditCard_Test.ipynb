{
  "nbformat": 4,
  "nbformat_minor": 0,
  "metadata": {
    "colab": {
      "provenance": [],
      "authorship_tag": "ABX9TyOJ7yN2KivpN52YZQiJz2hY",
      "include_colab_link": true
    },
    "kernelspec": {
      "name": "python3",
      "display_name": "Python 3"
    },
    "language_info": {
      "name": "python"
    }
  },
  "cells": [
    {
      "cell_type": "markdown",
      "metadata": {
        "id": "view-in-github",
        "colab_type": "text"
      },
      "source": [
        "<a href=\"https://colab.research.google.com/github/BinaliD/DSA4266_Testing/blob/main/CreditCard_Test.ipynb\" target=\"_parent\"><img src=\"https://colab.research.google.com/assets/colab-badge.svg\" alt=\"Open In Colab\"/></a>"
      ]
    },
    {
      "cell_type": "code",
      "execution_count": null,
      "metadata": {
        "id": "cHyjA7MgkRU-"
      },
      "outputs": [],
      "source": [
        "import numpy as np\n",
        "import pandas as pd\n",
        "import seaborn as sns\n",
        "import plotly.express as px\n",
        "import matplotlib.pyplot as plt"
      ]
    },
    {
      "cell_type": "code",
      "source": [
        "## allow colab to read from google drive\n",
        "from google.colab import drive\n",
        "drive.mount('/content/drive')\n"
      ],
      "metadata": {
        "colab": {
          "base_uri": "https://localhost:8080/"
        },
        "id": "ypKc1Xwuk6Pu",
        "outputId": "23d65b32-1475-4e81-f026-2f93f19a7099"
      },
      "execution_count": 7,
      "outputs": [
        {
          "output_type": "stream",
          "name": "stdout",
          "text": [
            "Mounted at /content/drive\n"
          ]
        }
      ]
    },
    {
      "cell_type": "code",
      "source": [
        "##working directory containing the dataset to interact with\n",
        "train_path = '/content/drive/MyDrive/DSA4263-FinalProject/Data-CreditCard/fraudTrain.csv'    #please change to your local filepath directory when running\n",
        "test_path = '/content/drive/MyDrive/DSA4263-FinalProject/Data-CreditCard/fraudTest.csv'\n"
      ],
      "metadata": {
        "id": "SojgiN_fmWxE"
      },
      "execution_count": 25,
      "outputs": []
    },
    {
      "cell_type": "code",
      "source": [
        "#import data\n",
        "train_df = pd.read_csv(train_path)\n",
        "test_df = pd.read_csv(test_path)"
      ],
      "metadata": {
        "id": "nztS92XckZ37"
      },
      "execution_count": 26,
      "outputs": []
    },
    {
      "cell_type": "code",
      "source": [
        "train_df.head()\n",
        "train_df.info()"
      ],
      "metadata": {
        "colab": {
          "base_uri": "https://localhost:8080/"
        },
        "id": "7GT9gumTpyjR",
        "outputId": "9cd06286-37da-4a19-9566-7c4eda25d1a0"
      },
      "execution_count": 28,
      "outputs": [
        {
          "output_type": "stream",
          "name": "stdout",
          "text": [
            "<class 'pandas.core.frame.DataFrame'>\n",
            "RangeIndex: 1296675 entries, 0 to 1296674\n",
            "Data columns (total 23 columns):\n",
            " #   Column                 Non-Null Count    Dtype  \n",
            "---  ------                 --------------    -----  \n",
            " 0   Unnamed: 0             1296675 non-null  int64  \n",
            " 1   trans_date_trans_time  1296675 non-null  object \n",
            " 2   cc_num                 1296675 non-null  int64  \n",
            " 3   merchant               1296675 non-null  object \n",
            " 4   category               1296675 non-null  object \n",
            " 5   amt                    1296675 non-null  float64\n",
            " 6   first                  1296675 non-null  object \n",
            " 7   last                   1296675 non-null  object \n",
            " 8   gender                 1296675 non-null  object \n",
            " 9   street                 1296675 non-null  object \n",
            " 10  city                   1296675 non-null  object \n",
            " 11  state                  1296675 non-null  object \n",
            " 12  zip                    1296675 non-null  int64  \n",
            " 13  lat                    1296675 non-null  float64\n",
            " 14  long                   1296675 non-null  float64\n",
            " 15  city_pop               1296675 non-null  int64  \n",
            " 16  job                    1296675 non-null  object \n",
            " 17  dob                    1296675 non-null  object \n",
            " 18  trans_num              1296675 non-null  object \n",
            " 19  unix_time              1296675 non-null  int64  \n",
            " 20  merch_lat              1296675 non-null  float64\n",
            " 21  merch_long             1296675 non-null  float64\n",
            " 22  is_fraud               1296675 non-null  int64  \n",
            "dtypes: float64(5), int64(6), object(12)\n",
            "memory usage: 227.5+ MB\n"
          ]
        }
      ]
    },
    {
      "cell_type": "code",
      "source": [
        "train_df.head()"
      ],
      "metadata": {
        "id": "1Q0oqp3rqZts"
      },
      "execution_count": null,
      "outputs": []
    },
    {
      "cell_type": "code",
      "source": [
        "#Check the split between fraud and not fraud\n",
        "# Group the data by the 'is_fraud' column and count the occurrences of each value\n",
        "fraud_counts = train_df['is_fraud'].value_counts()\n",
        "\n",
        "# Plot the counts\n",
        "fraud_counts.plot(kind='bar', color=['blue', 'red'])\n",
        "\n",
        "# Add labels and title\n",
        "plt.title('Distribution of fraud vs genuine')\n",
        "plt.xlabel('is_fraud')\n",
        "plt.ylabel('Count')\n",
        "\n",
        "# Add annotation text on top of each bar\n",
        "for i, count in enumerate(fraud_counts):\n",
        "    plt.text(i, count, str(count), ha='center', va='bottom')\n",
        "\n",
        "# Show the plot\n",
        "plt.show()"
      ],
      "metadata": {
        "colab": {
          "base_uri": "https://localhost:8080/",
          "height": 467
        },
        "id": "6Y6ckxU8qctw",
        "outputId": "9ee44004-145f-46ad-f07e-897cc6301ebf"
      },
      "execution_count": 30,
      "outputs": [
        {
          "output_type": "display_data",
          "data": {
            "text/plain": [
              "<Figure size 640x480 with 1 Axes>"
            ],
            "image/png": "[encoded data removed]"
          },
          "metadata": {}
        }
      ]
    },
    {
      "cell_type": "code",
      "source": [],
      "metadata": {
        "id": "B3cq8LZ9rnHd"
      },
      "execution_count": null,
      "outputs": []
    },
    {
      "cell_type": "code",
      "source": [
        "#As a percentage\n",
        "# Calculate the percentage of each value\n",
        "fraud_percentage = train_df['is_fraud'].value_counts(normalize=True) * 100\n",
        "\n",
        "# Plot the pie chart\n",
        "plt.pie(fraud_percentage, labels=fraud_percentage.index, autopct='%1.1f%%', colors=['lightblue', 'lightcoral'])\n",
        "\n",
        "# Add title\n",
        "plt.title('Distribution of fraud vs genuine')\n",
        "\n",
        "# Equal aspect ratio ensures that pie is drawn as a circle\n",
        "plt.axis('equal')\n",
        "\n",
        "# Show the plot\n",
        "plt.show()"
      ],
      "metadata": {
        "colab": {
          "base_uri": "https://localhost:8080/",
          "height": 428
        },
        "id": "WNhoy9dpqvYA",
        "outputId": "7c51dbe1-161c-467e-ed60-dc7e8f7eb6c7"
      },
      "execution_count": 31,
      "outputs": [
        {
          "output_type": "display_data",
          "data": {
            "text/plain": [
              "<Figure size 640x480 with 1 Axes>"
            ],
            "image/png": "[encoded data removed]"
          },
          "metadata": {}
        }
      ]
    },
    {
      "cell_type": "code",
      "source": [
        "# Calculate the total count of transactions\n",
        "total_transactions = len(train_df)\n",
        "\n",
        "# Calculate the counts of fraudulent and genuine transactions\n",
        "fraudulent_count = train_df['is_fraud'].sum()\n",
        "genuine_count = total_transactions - fraudulent_count\n",
        "\n",
        "# Print the findings\n",
        "print(\"Fraudulent transactions (is_fraud = 1):\")\n",
        "print(\"- Count: \", fraudulent_count)\n",
        "print(\"- Percentage: {:.2f}%\".format((fraudulent_count / total_transactions) * 100))\n",
        "\n",
        "print(\"\\nGenuine transactions (is_fraud = 0):\")\n",
        "print(\"- Count: \", genuine_count)\n",
        "print(\"- Percentage: {:.2f}%\".format((genuine_count / total_transactions) * 100))\n"
      ],
      "metadata": {
        "colab": {
          "base_uri": "https://localhost:8080/"
        },
        "id": "gFHM8qrKsIpJ",
        "outputId": "e169c112-4ab0-4efd-cfca-edede9e5e0cc"
      },
      "execution_count": 38,
      "outputs": [
        {
          "output_type": "stream",
          "name": "stdout",
          "text": [
            "Fraudulent transactions (is_fraud = 1):\n",
            "- Count:  7506\n",
            "- Percentage: 0.58%\n",
            "\n",
            "Genuine transactions (is_fraud = 0):\n",
            "- Count:  1289169\n",
            "- Percentage: 99.42%\n"
          ]
        }
      ]
    }
  ]
}